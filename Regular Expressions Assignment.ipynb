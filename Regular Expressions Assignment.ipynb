{
 "cells": [
  {
   "cell_type": "code",
   "execution_count": 4,
   "id": "6b69865f",
   "metadata": {},
   "outputs": [
    {
     "name": "stdout",
     "output_type": "stream",
     "text": [
      "Expected Output: Python:Exercises::PHP:exercises:\n"
     ]
    }
   ],
   "source": [
    "#Assignment for RE\n",
    "#Question 1- Write a Python program to replace all occurrences of a space, comma, or dot with a \n",
    "#colon.\n",
    " #Sample Text- 'Python Exercises, PHP exercises.'\n",
    "# Expected Output: Python:Exercises::PHP:exercises:*\n",
    "import re\n",
    "text='Python Exercises, PHP exercises.'\n",
    "op=re.sub(\"[ ,.]\",\":\",text)\n",
    "print(\"Expected Output:\",op)\n"
   ]
  },
  {
   "cell_type": "code",
   "execution_count": 14,
   "id": "a3e43f32",
   "metadata": {},
   "outputs": [
    {
     "name": "stdout",
     "output_type": "stream",
     "text": [
      "         SUMMARY\n",
      "0    hello world\n",
      "1           test\n",
      "2  four five six\n"
     ]
    }
   ],
   "source": [
    "# Question 2-  Create a dataframe using the dictionary below and remove everything (commas (,), !, \n",
    "#XXXX, ;, etc.) from the columns except words.\n",
    " #Dictionary- {'SUMMARY' : ['hello, world!', 'XXXXX test', '123four, five:; six...']}\n",
    " #Expected output\n",
    "#0      hello world\n",
    " #1             test\n",
    "# 2    four five six\n",
    "\n",
    "import pandas as pd\n",
    "import re\n",
    "\n",
    "dict={'SUMMARY' : ['hello, world!', 'XXXXX test', '123four, five:; six...']}\n",
    "df=pd.DataFrame(dict)\n",
    "df['SUMMARY'] = df['SUMMARY'].str.replace(r'[^a-z\\s]', '', regex=True)\n",
    "print(df)"
   ]
  },
  {
   "cell_type": "code",
   "execution_count": 16,
   "id": "7c0ebd25",
   "metadata": {},
   "outputs": [
    {
     "name": "stdout",
     "output_type": "stream",
     "text": [
      "['sharing', 'Assignment', 'Regular', 'Expressions', 'Please', 'find', 'attached', 'document', 'below']\n"
     ]
    }
   ],
   "source": [
    "#Question 3- Create a function in python to find all words that are at least 4 characters long in a \n",
    "#string. The use of the re.compile() method is mandatory.\n",
    "import re\n",
    "string=\"We are sharing the Assignment for Regular Expressions. Please find attached the document below\"\n",
    "pattern = re.compile(r'\\b\\w{4,}\\b')\n",
    "output=pattern.findall(string)\n",
    "print(output)"
   ]
  },
  {
   "cell_type": "code",
   "execution_count": 17,
   "id": "a53fb938",
   "metadata": {},
   "outputs": [
    {
     "name": "stdout",
     "output_type": "stream",
     "text": [
      "['are', 'the', 'for', 'Please', 'find', 'the', 'below']\n"
     ]
    }
   ],
   "source": [
    "# Question 4- Create a function in python to find all three, four, and five character words in a string. \n",
    "#The use of the re.compile() method is mandatory.\n",
    "import re\n",
    "string=\"We are sharing the Assignment for Regular Expressions. Please find attached the document below\"\n",
    "pattern = re.compile(r'\\b\\w{3,6}\\b')\n",
    "output=pattern.findall(string)\n",
    "print(output)"
   ]
  },
  {
   "cell_type": "code",
   "execution_count": 44,
   "id": "7e0e743f",
   "metadata": {},
   "outputs": [
    {
     "name": "stdout",
     "output_type": "stream",
     "text": [
      "example.com\n",
      "hr@fliprobo.com\n",
      "github.com\n",
      "Hello Data Science World\n",
      "Data Scientist\n"
     ]
    }
   ],
   "source": [
    "#Question 5- Create a function in Python to remove the parenthesis in a list of strings. The use of the \n",
    "#re.compile() method is mandatory.\n",
    " #Sample Text: [\"example (.com)\", \"hr@fliprobo (.com)\", \"github (.com)\", \"Hello (Data Science World)\", \n",
    "#\"Data (Scientist)\"]\n",
    " #Expected Output:\n",
    " #example.com\n",
    "# hr@fliprobo.com\n",
    " #github.com\n",
    " #Hello Data Science World\n",
    "#Data Scientist\n",
    "\n",
    "import re\n",
    "\n",
    "sample_text = [\n",
    "    \"example (.com)\",\n",
    "    \"hr@fliprobo (.com)\",\n",
    "    \"github (.com)\",\n",
    "    \"Hello (Data Science World)\",\n",
    "    \"Data (Scientist)\"\n",
    "]\n",
    "\n",
    "def remove_parentheses(sample_text):\n",
    "    pattern = re.compile(r'\\s*\\(.*?\\)')\n",
    "    \n",
    "    # Process each string in the list\n",
    "    result = [pattern.sub('', text).strip() for text in sample_text]\n",
    "    \n",
    "    return result\n",
    "\n",
    "formatted_result = [item.replace(' .', '.') for item in expected_text]\n",
    "\n",
    "for line in formatted_result:\n",
    "    print(line)\n",
    "\n"
   ]
  },
  {
   "cell_type": "code",
   "execution_count": 54,
   "id": "5f7ab055",
   "metadata": {},
   "outputs": [
    {
     "name": "stdout",
     "output_type": "stream",
     "text": [
      "['example', 'hr@fliprobo', 'github', 'Hello', 'Data']\n"
     ]
    }
   ],
   "source": [
    " #Question 6- Write a python program to remove the parenthesis area from the text stored in the text \n",
    "#file using Regular Expression.\n",
    " #Sample Text: [\"example (.com)\", \"hr@fliprobo (.com)\", \"github (.com)\", \"Hello (Data Science World)\", \n",
    "#\"Data (Scientist)\"]\n",
    " #Expected Output: [\"example\", \"hr@fliprobo\", \"github\", \"Hello\", \"Data\"\n",
    "    \n",
    "import re\n",
    "\n",
    "\n",
    "sample_text = [\n",
    "    \"example (.com)\",\n",
    "    \"hr@fliprobo (.com)\",\n",
    "    \"github (.com)\",\n",
    "    \"Hello (Data Science World)\",\n",
    "    \"Data (Scientist)\"\n",
    "]\n",
    "\n",
    "# Write the sample text to a file\n",
    "with open('text_file.txt', 'w') as file:\n",
    "    for line in sample_text:\n",
    "        file.write(line + '\\n')\n",
    "\n",
    "def remove_parentheses(input_file):\n",
    "    \n",
    "    pattern = re.compile(r'\\s*\\(.*?\\)')\n",
    "    \n",
    " \n",
    "    with open(input_file, 'r') as file:\n",
    "        lines = file.readlines()\n",
    "    \n",
    "   \n",
    "    expected_output = [pattern.sub('', line).strip() for line in lines]\n",
    "    \n",
    "    \n",
    "    return expected_output\n",
    "\n",
    "\n",
    "input_file = 'text_file.txt'\n",
    "\n",
    "\n",
    "expected_output = remove_parentheses(input_file)\n",
    "\n",
    "\n",
    "print(expected_output)"
   ]
  },
  {
   "cell_type": "code",
   "execution_count": 57,
   "id": "1dcb080d",
   "metadata": {},
   "outputs": [
    {
     "name": "stdout",
     "output_type": "stream",
     "text": [
      "['Importance', 'Of', 'Regular', 'Expressions', 'In', 'Python']\n"
     ]
    }
   ],
   "source": [
    "#Question 7- Write a regular expression in Python to split a string into uppercase letters.\n",
    "# Sample text: “ImportanceOfRegularExpressionsInPython”\n",
    " #Expected Output: [‘Importance’, ‘Of’, ‘Regular’, ‘Expression’, ‘In’, ‘Python’]\n",
    "import re\n",
    "Sample_text = \"ImportanceOfRegularExpressionsInPython\"\n",
    "output = re.findall('[A-Z][^A-Z]*', Sample_text)\n",
    "print(output)\n"
   ]
  },
  {
   "cell_type": "code",
   "execution_count": 3,
   "id": "afb68bb3",
   "metadata": {},
   "outputs": [
    {
     "name": "stdout",
     "output_type": "stream",
     "text": [
      "RegularExpression 1IsAn 2ImportantTopic 3InPython\n"
     ]
    }
   ],
   "source": [
    " #Question 8- Create a function in python to insert spaces between words starting with numbers.\n",
    " #Sample Text: “RegularExpression1IsAn2ImportantTopic3InPython\"\n",
    " #Expected Output: RegularExpression 1IsAn 2ImportantTopic 3InPython\n",
    "    \n",
    "import re\n",
    "Sample_text = \"RegularExpression1IsAn2ImportantTopic3InPython\"\n",
    "def spaces_start_num(Sample_text):\n",
    "  # Use regular expression to find words starting with numbers\n",
    "  pattern = r'([A-Za-z]+)(\\d+)'\n",
    "  output = re.sub(pattern, r'\\1 \\2', Sample_text)\n",
    "  return output\n",
    "output = spaces_start_num(Sample_text)\n",
    "print(output)\n",
    "\n"
   ]
  },
  {
   "cell_type": "code",
   "execution_count": 31,
   "id": "ba994ca7",
   "metadata": {},
   "outputs": [
    {
     "name": "stdout",
     "output_type": "stream",
     "text": [
      "Regular Expression 1 Is An 2 Important Topic 3 In Python\n"
     ]
    }
   ],
   "source": [
    "#Question 9- Create a function in python to insert spaces between words starting with capital letters \n",
    "#or with numbers.\n",
    "# Sample Text: “RegularExpression1IsAn2ImportantTopic3InPython\"\n",
    "# Expected Output:  RegularExpression 1 IsAn 2 ImportantTopic 3 InPython\n",
    "\n",
    "import re\n",
    "Sample_text = \"RegularExpression1IsAn2ImportantTopic3InPython\"\n",
    "def spaces_start_cap_num(Sample_text):\n",
    "\n",
    "  pattern =r'(?<=[a-z])(?=[A-Z 0-9]+)'\n",
    "  output = re.sub(pattern,\" \", Sample_text)\n",
    "  output = re.sub(r'(?<=\\d)(?=[A-Z])', ' ', result)\n",
    "  return output\n",
    "output = spaces_start_cap_num(Sample_text)\n",
    "print(output)"
   ]
  },
  {
   "cell_type": "code",
   "execution_count": 5,
   "id": "0c7eb444",
   "metadata": {},
   "outputs": [
    {
     "name": "stdout",
     "output_type": "stream",
     "text": [
      "       Country first_six_letters\n",
      "0  Switzerland           Switzer\n",
      "1      Iceland           Iceland\n",
      "2      Denmark           Denmark\n",
      "3       Norway            Norway\n",
      "4       Canada            Canada\n"
     ]
    }
   ],
   "source": [
    " #Question 10- Use the github link below to read the data and create a dataframe. After creating the \n",
    "#dataframe extract the first 6 letters of each country and store in the dataframe under a new column \n",
    "#called first_five_letters.\n",
    "# Github Link-  \n",
    "#https://raw.githubusercontent.com/dsrscientist/DSData/master/happiness_score_dataset.csv\n",
    "\n",
    "import pandas as pd\n",
    "url = \"https://raw.githubusercontent.com/dsrscientist/DSData/master/happiness_score_dataset.csv\"\n",
    "df = pd.read_csv(url)\n",
    "if 'Country' in df.columns:\n",
    "    \n",
    "    df['first_six_letters'] = df['Country'].apply(lambda x: x[:7])\n",
    "    \n",
    "    \n",
    "    print(df[['Country', 'first_six_letters']].head())\n",
    "\n"
   ]
  },
  {
   "cell_type": "code",
   "execution_count": 9,
   "id": "aded393a",
   "metadata": {},
   "outputs": [
    {
     "name": "stdout",
     "output_type": "stream",
     "text": [
      "Not the required string\n",
      "a string contains only upper and lowercase letters, numbers, and underscores\n"
     ]
    }
   ],
   "source": [
    "#Question 11- Write a Python program to match a string that contains only upper and lowercase \n",
    "#letters, numbers, and underscores.\n",
    "import re\n",
    "def text_match(text):\n",
    "        patterns = '^[a-zA-Z0-9_]*$'\n",
    "        if re.search(patterns,  text):\n",
    "                return 'a string contains only upper and lowercase letters, numbers, and underscores'\n",
    "\n",
    "        else:\n",
    "                return('Not the required string')\n",
    "\n",
    "print(text_match(\"A string to test whether contains only uppercase,lowercase,numbers and underscore.\"))\n",
    "print(text_match(\"A_string_to_test_whether_contains_only_1uppercase_2lowercase_3numbers_4underscore\"))"
   ]
  },
  {
   "cell_type": "code",
   "execution_count": 14,
   "id": "7abf8100",
   "metadata": {},
   "outputs": [
    {
     "name": "stdout",
     "output_type": "stream",
     "text": [
      "The string starts with the specified number. 123\n"
     ]
    }
   ],
   "source": [
    "#Question 12- Write a Python program where a string will start with a specific number.\n",
    "def check_starting_number(string, number):\n",
    "  if string.startswith(str(number)):\n",
    "      return True\n",
    "  else:\n",
    "      return False\n",
    "\n",
    "\n",
    "string = \"123abc\"\n",
    "number = 123\n",
    "\n",
    "if check_starting_number(string, number):\n",
    "  print(\"The string starts with the specified number.\",number)\n",
    "else:\n",
    "  print(\"The string does not start with the specified number.\")"
   ]
  },
  {
   "cell_type": "code",
   "execution_count": 20,
   "id": "128b758e",
   "metadata": {},
   "outputs": [
    {
     "name": "stdout",
     "output_type": "stream",
     "text": [
      "Original IP: 192.168.004.001 ----> Required IP: 192.168.4.1\n",
      "Original IP: 10.000.0.250 ----> Required IP: 10.0.0.250\n",
      "Original IP: 255.255.255.255 ----> Required IP: 255.255.255.255\n",
      "Original IP: 0.0.0.0 ----> Required IP: 0.0.0.0\n",
      "Original IP: 172.016.001.101 ----> Required IP: 172.16.1.101\n"
     ]
    }
   ],
   "source": [
    "#Question 13- Write a Python program to remove leading zeros from an IP address\n",
    "\n",
    "import re\n",
    "\n",
    "def remove_leading_zeros(ip_address):\n",
    " \n",
    "    pattern = r'\\b0+(?!\\b)'   \n",
    "    \n",
    "    output = re.sub(pattern, '', ip_address)\n",
    "    \n",
    "    return output\n",
    "\n",
    "test_ip_addresses = [\n",
    "    \"192.168.004.001\",\n",
    "    \"10.000.0.250\",\n",
    "    \"255.255.255.255\",\n",
    "    \"0.0.0.0\",\n",
    "    \"172.016.001.101\"\n",
    "]\n",
    "for ip in test_ip_addresses:\n",
    "    output = remove_leading_zeros(ip)\n",
    "    print(f\"Original IP: {ip} ----> Required IP: {output}\")"
   ]
  },
  {
   "cell_type": "code",
   "execution_count": 38,
   "id": "35eb4eed",
   "metadata": {},
   "outputs": [
    {
     "name": "stdout",
     "output_type": "stream",
     "text": [
      "August 15th 1947\n"
     ]
    }
   ],
   "source": [
    "#Question 14- Write a regular expression in python to match a date string in the form of Month name \n",
    "#followed by day number and year stored in a text file.\n",
    "#Sample text : ' On August 15th 1947 that India was declared independent from British colonialism, and \n",
    "#the reins of control were handed over to the leaders of the Country’.\n",
    "#Expected Output- August 15th 1947\n",
    "#Note- Store given sample text in the text file and then extract the date string asked format.\n",
    "\n",
    "import re\n",
    "\n",
    "sample_text = \"On August 15th 1947 that India was declared independent from British colonialism, and the reins of control were handed over to the leaders of the Country.\"\n",
    "\n",
    "with open('sample_text.txt', 'w') as file:\n",
    "    file.write(sample_text)\n",
    "def extract_date_from_file(file_path):\n",
    "    \n",
    "    pattern = r'\\b([A-Za-z]+ \\d{1,2}(?:th|st|nd|rd)? \\d{4})\\b'\n",
    "    \n",
    "    \n",
    "    with open(file_path, 'r') as file:\n",
    "        text = file.read()\n",
    "    \n",
    "    \n",
    "    matches = re.findall(pattern, text)\n",
    "    \n",
    "    \n",
    "    return matches\n",
    "\n",
    "\n",
    "file_path = 'sample_text.txt'\n",
    "\n",
    "\n",
    "dates = extract_date_from_file(file_path)\n",
    "for date in dates:\n",
    "    print(date)\n",
    "        \n",
    "        "
   ]
  },
  {
   "cell_type": "code",
   "execution_count": 39,
   "id": "b96a99c5",
   "metadata": {},
   "outputs": [
    {
     "name": "stdout",
     "output_type": "stream",
     "text": [
      "Searching for \"fox\" in \"The quick brown fox jumps over the lazy dog.\" ->\n",
      "Matched!\n",
      "Searching for \"dog\" in \"The quick brown fox jumps over the lazy dog.\" ->\n",
      "Matched!\n",
      "Searching for \"horse\" in \"The quick brown fox jumps over the lazy dog.\" ->\n",
      "Not Matched!\n"
     ]
    }
   ],
   "source": [
    "#Question 15- Write a Python program to search some literals strings in a string. \n",
    "#ample text : 'The quick brown fox jumps over the lazy dog.'\n",
    "#Searched words : 'fox', 'dog', 'horse'\n",
    "    \n",
    "import re\n",
    "patterns = [ 'fox', 'dog', 'horse' ]\n",
    "text = 'The quick brown fox jumps over the lazy dog.'\n",
    "for pattern in patterns:\n",
    "    print('Searching for \"%s\" in \"%s\" ->' % (pattern, text),)\n",
    "    if re.search(pattern,  text):\n",
    "        print('Matched!')\n",
    "    else:\n",
    "        print('Not Matched!')"
   ]
  },
  {
   "cell_type": "code",
   "execution_count": 40,
   "id": "e2bd4919",
   "metadata": {},
   "outputs": [
    {
     "name": "stdout",
     "output_type": "stream",
     "text": [
      "Found \"fox\" in \"The quick brown fox jumps over the lazy dog.\" from 16 to 19 \n"
     ]
    }
   ],
   "source": [
    " #Write a Python program to search a literals string in a string and also find the location \n",
    "#within the original string where the pattern occurs\n",
    "#Sample text : 'The quick brown fox jumps over the lazy dog.'\n",
    "#Searched words : 'fox'\n",
    "\n",
    "import re\n",
    "pattern = 'fox'\n",
    "text = 'The quick brown fox jumps over the lazy dog.'\n",
    "match = re.search(pattern, text)\n",
    "s = match.start()\n",
    "e = match.end()\n",
    "print('Found \"%s\" in \"%s\" from %d to %d ' % \\\n",
    "    (match.re.pattern, match.string, s, e))"
   ]
  },
  {
   "cell_type": "code",
   "execution_count": 41,
   "id": "0e10879f",
   "metadata": {},
   "outputs": [
    {
     "name": "stdout",
     "output_type": "stream",
     "text": [
      "Found \"exercises\"\n",
      "Found \"exercises\"\n",
      "Found \"exercises\"\n"
     ]
    }
   ],
   "source": [
    "#Question 17- Write a Python program to find the substrings within a string.\n",
    "#Sample text : 'Python exercises, PHP exercises, C# exercises'\n",
    "#Pattern : 'exercises'\n",
    "import re\n",
    "text = 'Python exercises, PHP exercises, C# exercises'\n",
    "pattern = 'exercises'\n",
    "for match in re.findall(pattern, text):\n",
    "    print('Found \"%s\"' % match)"
   ]
  },
  {
   "cell_type": "code",
   "execution_count": 42,
   "id": "aa7f4a10",
   "metadata": {},
   "outputs": [
    {
     "name": "stdout",
     "output_type": "stream",
     "text": [
      "Found \"exercises\" at 7:16\n",
      "Found \"exercises\" at 22:31\n",
      "Found \"exercises\" at 36:45\n"
     ]
    }
   ],
   "source": [
    "#Question 18- Write a Python program to find the occurrence and position of the substrings within a \n",
    "#string\n",
    "\n",
    "import re\n",
    "text = 'Python exercises, PHP exercises, C# exercises'\n",
    "pattern = 'exercises'\n",
    "for match in re.finditer(pattern, text):\n",
    "    s = match.start()\n",
    "    e = match.end()\n",
    "    print('Found \"%s\" at %d:%d' % (text[s:e], s, e))"
   ]
  },
  {
   "cell_type": "code",
   "execution_count": 46,
   "id": "1f3f78ed",
   "metadata": {},
   "outputs": [
    {
     "name": "stdout",
     "output_type": "stream",
     "text": [
      "Original date in YYY-MM-DD Format:  2024-08-24\n",
      "New date in DD-MM-YYYY Format:  24-08-2024\n"
     ]
    }
   ],
   "source": [
    "#Question 19- Write a Python program to convert a date of yyyy-mm-dd format to dd-mm-yyyy \n",
    "#format\n",
    "\n",
    "import re\n",
    "def change_date_format(dt):\n",
    "    return re.sub(r'(\\d{4})-(\\d{1,2})-(\\d{1,2})', '\\\\3-\\\\2-\\\\1', dt)\n",
    "dt1 = \"2024-08-24\"\n",
    "print(\"Original date in YYY-MM-DD Format: \",dt1)\n",
    "print(\"New date in DD-MM-YYYY Format: \",change_date_format(dt1))"
   ]
  },
  {
   "cell_type": "code",
   "execution_count": 48,
   "id": "b65e7f80",
   "metadata": {},
   "outputs": [
    {
     "name": "stdout",
     "output_type": "stream",
     "text": [
      "['01.12', '145.8', '3.01', '27.25', '0.25']\n"
     ]
    }
   ],
   "source": [
    "#Question 20- Create a function in python to find all decimal numbers with a precision of 1 or 2 in a \n",
    "#string. The use of the re.compile() method is mandatory.\n",
    "#Sample Text: \"01.12 0132.123 2.31875 145.8 3.01 27.25 0.25\"\n",
    "    \n",
    "import re\n",
    "\n",
    "text = \"01.12 0132.123 2.31875 145.8 3.01 27.25 0.25\"\n",
    "\n",
    "def find_decimal_numbers(text):\n",
    " \n",
    "    pattern = re.compile(r'\\b\\d+\\.\\d{1,2}\\b')\n",
    "   \n",
    "    matches = pattern.findall(text)\n",
    "    \n",
    "    return matches\n",
    "\n",
    "decimal_numbers = find_decimal_numbers(text)\n",
    "\n",
    "\n",
    "print(decimal_numbers)\n",
    "\n"
   ]
  },
  {
   "cell_type": "code",
   "execution_count": 50,
   "id": "2a2fc3d6",
   "metadata": {},
   "outputs": [
    {
     "name": "stdout",
     "output_type": "stream",
     "text": [
      "Number: 23, Start: 10, End: 11\n",
      "Number: 27, Start: 23, End: 24\n",
      "Number: 10, Start: 40, End: 41\n"
     ]
    }
   ],
   "source": [
    "#Question 21- Write a Python program to separate and print the numbers and their position of a \n",
    "#given string\n",
    "\n",
    "import re\n",
    "text = \"There are 23 girls and 27 boys in class 10th this year\"\n",
    "def find_numbers_and_positions(text):\n",
    "    \n",
    "    pattern = re.compile(r'\\d+(\\.\\d+)?')\n",
    "    \n",
    "    matches = pattern.finditer(text)\n",
    "    \n",
    "    result = []\n",
    "    for match in matches:\n",
    "        number = match.group()\n",
    "        start_index = match.start()\n",
    "        end_index = match.end() - 1\n",
    "        result.append((number, start_index, end_index))\n",
    "    \n",
    "    return result\n",
    "numbers_with_positions = find_numbers_and_positions(text)\n",
    "\n",
    "for number, start, end in numbers_with_positions:\n",
    "    print(f\"Number: {number}, Start: {start}, End: {end}\")\n"
   ]
  },
  {
   "cell_type": "code",
   "execution_count": 55,
   "id": "d00e8673",
   "metadata": {},
   "outputs": [
    {
     "name": "stdout",
     "output_type": "stream",
     "text": [
      "Max_value: 950\n"
     ]
    }
   ],
   "source": [
    "#Question 22- Write a regular expression in python program to extract maximum/largest numeric \n",
    "#value from a string.\n",
    "#Sample Text: 'My marks in each semester are: 947, 896, 926, 524, 734, 950, 642'\n",
    "#Expected Output: 950\n",
    "\n",
    "import re\n",
    "text = 'My marks in each semester are: 947, 896, 926, 524, 734, 950, 642'\n",
    "number = re.findall('\\d+', text)\n",
    "number = map(int, number)\n",
    "print(\"Max_value:\",max(number))\n",
    "\n"
   ]
  },
  {
   "cell_type": "code",
   "execution_count": 57,
   "id": "8f336717",
   "metadata": {},
   "outputs": [
    {
     "name": "stdout",
     "output_type": "stream",
     "text": [
      "Regular Expression Is An Important Topic In Python\n"
     ]
    }
   ],
   "source": [
    "#Question 23- Create a function in python to insert spaces between words starting with capital \n",
    "#letters.\n",
    "#Sample Text: “RegularExpressionIsAnImportantTopicInPython\"\n",
    "#Expected Output: Regular Expression Is An Important Topic In Python\n",
    "\n",
    "import re\n",
    "text = \"RegularExpressionIsAnImportantTopicInPython\"\n",
    "def insert_spaces(text):\n",
    "    \n",
    "    pattern = r'(?<!^)(?=[A-Z])'\n",
    "    \n",
    "    spaced_text = re.sub(pattern, ' ', text)\n",
    "    \n",
    "    return spaced_text\n",
    "\n",
    "\n",
    "output = insert_spaces(text)\n",
    "\n",
    "# Print the result\n",
    "print(output)\n"
   ]
  },
  {
   "cell_type": "code",
   "execution_count": null,
   "id": "acf7d197",
   "metadata": {},
   "outputs": [],
   "source": [
    "#Question 24- Python regex to find sequences of one upper case letter followed by lower case letter\n"
   ]
  },
  {
   "cell_type": "code",
   "execution_count": 60,
   "id": "5826ca53",
   "metadata": {},
   "outputs": [
    {
     "name": "stdout",
     "output_type": "stream",
     "text": [
      "Hello hello world\n"
     ]
    }
   ],
   "source": [
    "#Question 25- Write a Python program to remove continuous duplicate words from Sentence using \n",
    "#Regular Expression.\n",
    "#Sample Text: \"Hello hello world world\"\n",
    "#Expected Output: Hello hello world\n",
    "import re\n",
    "text = \"Hello hello world world\"\n",
    "def remove_dup(text):\n",
    "    # Define the regex pattern to match continuous duplicate words\n",
    "    pattern = r'\\b(\\w+)\\s+\\1\\b'\n",
    "    \n",
    "    result = re.sub(pattern, r'\\1',text)\n",
    "    \n",
    "    return result\n",
    "\n",
    "output = remove_dup(text)\n",
    "\n",
    "print(output)\n",
    "\n"
   ]
  },
  {
   "cell_type": "code",
   "execution_count": 70,
   "id": "4168f5cf",
   "metadata": {},
   "outputs": [
    {
     "name": "stdout",
     "output_type": "stream",
     "text": [
      "The string is :\n",
      "Python is very popular Coding Language\n",
      "The string doesnot end with alphanumeric character\n"
     ]
    }
   ],
   "source": [
    "#Question 26- Write a python program using RegEx to accept string ending with alphanumeric \n",
    "#character.\n",
    "\n",
    "import re\n",
    "text = \"Python is very popular Coding Language\"\n",
    "pattern = '[a-zA-z0-9]$'\n",
    "\n",
    "def check_string(texts):\n",
    "\n",
    "   if(re.search(pattern, texts)):\n",
    "      print(\"The string doesnot end with alphanumeric character\")\n",
    "\n",
    "   else:\n",
    "      print(\"The string ends with alphanumeric character\")\n",
    "\n",
    "\n",
    "\n",
    "print(\"The string is :\")\n",
    "print(text)\n",
    "check_string(text)\n"
   ]
  },
  {
   "cell_type": "code",
   "execution_count": 71,
   "id": "f5f08e87",
   "metadata": {},
   "outputs": [
    {
     "name": "stdout",
     "output_type": "stream",
     "text": [
      "['#Doltiwal', '#xyzabc', '#Demonetization']\n"
     ]
    }
   ],
   "source": [
    "#Question 27-Write a python program using RegEx to extract the hashtags.\n",
    "#Sample Text: \"\"\"RT @kapil_kausik: #Doltiwal I mean #xyzabc is \"hurt\" by #Demonetization as the same \n",
    "#has rendered USELESS <ed><U+00A0><U+00BD><ed><U+00B1><U+0089> \"acquired funds\" No wo\"\"\"\n",
    "#Expected Output: ['#Doltiwal', '#xyzabc', '#Demonetization']\n",
    "\n",
    "import re\n",
    "text = 'RT @kapil_kausik: #Doltiwal I mean #xyzabc is \"hurt\" by #Demonetization as the same has rendered USELESS <ed><U+00A0><U+00BD><ed><U+00B1><U+0089> \"acquired funds\" No wo'\n",
    "\n",
    "def extract_hashtags(text):\n",
    "  hashtags = re.findall(r'#\\w+', text)\n",
    "  return hashtags\n",
    "\n",
    "hashtags = extract_hashtags(text)\n",
    "\n",
    "print(hashtags)"
   ]
  },
  {
   "cell_type": "code",
   "execution_count": 78,
   "id": "d5d511b0",
   "metadata": {},
   "outputs": [
    {
     "name": "stdout",
     "output_type": "stream",
     "text": [
      "@Jags123456 Bharat band on 28??<ed><ed>Those who are protesting #demonetization are all different party leaders.\n"
     ]
    }
   ],
   "source": [
    "#Question 28- Write a python program using RegEx to remove <U+..> like symbols\n",
    "#Check the below sample text, there are strange symbols something of the sort <U+..> all over the place. \n",
    "#You need to come up with a general Regex expression that will cover all such symbols.\n",
    "#Sample Text: \"@Jags123456 Bharat band on \n",
    "#28??<ed><U+00A0><U+00BD><ed><U+00B8><U+0082>Those who are protesting #demonetization are \n",
    "#all different party leaders\"\n",
    "#Expected Output: @Jags123456 Bharat band on 28??<ed><ed>Those who are protesting \n",
    "#demonetization are all different party leaders\n",
    "\n",
    "import re\n",
    "text = \"@Jags123456 Bharat band on 28??<ed><U+00A0><U+00BD><ed><U+00B8><U+0082>Those who are protesting #demonetization are all different party leaders.\"\n",
    "\n",
    "def remove_symbols(text):\n",
    "     pattern = r'<U\\+[0-9A-Fa-f]{4}>'\n",
    "    \n",
    "     output = re.sub(pattern, '', text)\n",
    "    \n",
    "     return output\n",
    "\n",
    "output = remove_symbols(text)\n",
    "\n",
    "print(output)\n"
   ]
  },
  {
   "cell_type": "code",
   "execution_count": 79,
   "id": "d7e23cb1",
   "metadata": {},
   "outputs": [
    {
     "name": "stdout",
     "output_type": "stream",
     "text": [
      "12-09-1992\n",
      "15-12-1999\n"
     ]
    }
   ],
   "source": [
    "#Question 29- Write a python program to extract dates from the text stored in the text file.\n",
    "#Sample Text: Ron was born on 12-09-1992 and he was admitted to school 15-12-1999.\n",
    "#Note- Store this sample text in the file and then extract dates.\n",
    "\n",
    "import re\n",
    "\n",
    "sample_text1 = \"Ron was born on 12-09-1992 and he was admitted to school 15-12-1999.\"\n",
    "\n",
    "with open('sample_text1.txt', 'w') as file:\n",
    "    file.write(sample_text1)\n",
    "def extract_date_from_file(file_path):\n",
    "    \n",
    "    pattern = r'\\b\\d{2}-\\d{2}-\\d{4}\\b'\n",
    "    \n",
    "    \n",
    "    with open(file_path, 'r') as file:\n",
    "        text = file.read()\n",
    "    \n",
    "    \n",
    "    matches = re.findall(pattern, text)\n",
    "    \n",
    "    \n",
    "    return matches\n",
    "\n",
    "\n",
    "file_path = 'sample_text1.txt'\n",
    "\n",
    "\n",
    "dates = extract_date_from_file(file_path)\n",
    "for date in dates:\n",
    "    print(date)\n",
    "\n"
   ]
  },
  {
   "cell_type": "code",
   "execution_count": 82,
   "id": "2db3406b",
   "metadata": {},
   "outputs": [
    {
     "name": "stdout",
     "output_type": "stream",
     "text": [
      "following example creates ArrayList a capacity elements. 4 elements added ArrayList ArrayList trimmed accordingly.\n"
     ]
    }
   ],
   "source": [
    "#Question 30- Create a function in python to remove all words from a string of length between 2 and \n",
    "#4.\n",
    "#The use of the re.compile() method is mandatory.\n",
    "#Sample Text: \"The following example creates an ArrayList with a capacity of 50 elements. 4 elements \n",
    "#are then added to the ArrayList and the ArrayList is trimmed accordingly.\"\n",
    "#Expected Output: following example creates ArrayList a capacity elements. 4 elements added ArrayList \n",
    "#ArrayList trimmed accordingly\n",
    "\n",
    "import re\n",
    "text = \"The following example creates an ArrayList with a capacity of 50 elements. 4 elements are then added to the ArrayList and the ArrayList is trimmed accordingly.\"\n",
    "def remove_short_words(text):\n",
    "\n",
    "    pattern = re.compile(r'\\b\\w{2,4}\\b')\n",
    "    \n",
    "    output = pattern.sub('', text).strip()\n",
    "    \n",
    "    output = re.sub(r'\\s+', ' ', output)\n",
    "    \n",
    "    return output\n",
    "\n",
    "output = remove_short_words(text)\n",
    "\n",
    "print(output)\n"
   ]
  },
  {
   "cell_type": "code",
   "execution_count": null,
   "id": "28948fd6",
   "metadata": {},
   "outputs": [],
   "source": []
  }
 ],
 "metadata": {
  "kernelspec": {
   "display_name": "Python 3 (ipykernel)",
   "language": "python",
   "name": "python3"
  },
  "language_info": {
   "codemirror_mode": {
    "name": "ipython",
    "version": 3
   },
   "file_extension": ".py",
   "mimetype": "text/x-python",
   "name": "python",
   "nbconvert_exporter": "python",
   "pygments_lexer": "ipython3",
   "version": "3.11.4"
  }
 },
 "nbformat": 4,
 "nbformat_minor": 5
}
